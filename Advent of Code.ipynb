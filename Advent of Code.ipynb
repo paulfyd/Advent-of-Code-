{
 "cells": [
  {
   "cell_type": "markdown",
   "metadata": {},
   "source": [
    "### Day 1"
   ]
  },
  {
   "cell_type": "code",
   "execution_count": 31,
   "metadata": {},
   "outputs": [],
   "source": [
    "import numpy as np"
   ]
  },
  {
   "cell_type": "code",
   "execution_count": 32,
   "metadata": {},
   "outputs": [],
   "source": [
    "f = open('./data/input.txt', 'r')\n",
    "content = f.read()\n",
    "l = content.split('\\n')\n",
    "l.remove('')\n",
    "l = np.array([int(i) for i in l])"
   ]
  },
  {
   "cell_type": "code",
   "execution_count": 33,
   "metadata": {},
   "outputs": [
    {
     "name": "stdout",
     "output_type": "stream",
     "text": [
      "261244452\n"
     ]
    }
   ],
   "source": [
    "n = len(l)\n",
    "for i in range(n):\n",
    "    for j in range(i+1,n):\n",
    "        for h in range(j+1,n):\n",
    "            if l[i]+l[j]+l[h]==2020:\n",
    "                print(l[i]*l[j]*l[h])"
   ]
  },
  {
   "cell_type": "markdown",
   "metadata": {},
   "source": [
    "## Day 2"
   ]
  },
  {
   "cell_type": "markdown",
   "metadata": {},
   "source": [
    "### Part 1"
   ]
  },
  {
   "cell_type": "code",
   "execution_count": 26,
   "metadata": {},
   "outputs": [],
   "source": [
    "f = open('./data/input_day2.txt', 'r')\n",
    "content = f.read()\n",
    "l = content.split('\\n')\n",
    "l.remove('')"
   ]
  },
  {
   "cell_type": "code",
   "execution_count": 27,
   "metadata": {},
   "outputs": [
    {
     "name": "stdout",
     "output_type": "stream",
     "text": [
      "591\n"
     ]
    }
   ],
   "source": [
    "cpteur = 0\n",
    "for line in l:\n",
    "    [m,reste] = line.split('-')\n",
    "    [M,letter,pswd]=reste.split(' ')\n",
    "    letter=letter[0]\n",
    "    m, M = int(m),int(M)\n",
    "    if (pswd.count(letter)>=m) & (pswd.count(letter)<=M):\n",
    "        cpteur+=1\n",
    "\n",
    "print(cpteur)"
   ]
  },
  {
   "cell_type": "markdown",
   "metadata": {},
   "source": [
    "### Part 2"
   ]
  },
  {
   "cell_type": "code",
   "execution_count": 29,
   "metadata": {},
   "outputs": [
    {
     "name": "stdout",
     "output_type": "stream",
     "text": [
      "335\n"
     ]
    }
   ],
   "source": [
    "cpteur = 0\n",
    "for line in l:\n",
    "    [m,reste] = line.split('-')\n",
    "    [M,letter,pswd]=reste.split(' ')\n",
    "    letter=letter[0]\n",
    "    m, M = int(m),int(M)\n",
    "    if ((pswd[m-1]==letter) & (pswd[M-1]!=letter)) or ((pswd[m-1]!=letter) & (pswd[M-1]==letter)):\n",
    "        cpteur+=1\n",
    "        \n",
    "print(cpteur)"
   ]
  },
  {
   "cell_type": "markdown",
   "metadata": {},
   "source": [
    "## Day3"
   ]
  },
  {
   "cell_type": "code",
   "execution_count": 1,
   "metadata": {},
   "outputs": [],
   "source": [
    "f = open('./data/input_day3.txt', 'r')\n",
    "content = f.read()\n",
    "l = content.split('\\n')\n",
    "l.remove('')"
   ]
  },
  {
   "cell_type": "markdown",
   "metadata": {},
   "source": [
    "### Part 1"
   ]
  },
  {
   "cell_type": "code",
   "execution_count": 12,
   "metadata": {},
   "outputs": [
    {
     "name": "stdout",
     "output_type": "stream",
     "text": [
      "207\n"
     ]
    }
   ],
   "source": [
    "n = len(l)\n",
    "m= len(l[0])\n",
    "\n",
    "line = 0 \n",
    "col = 0 \n",
    "cpteur_arbre = 0 \n",
    "while line <n-1:\n",
    "    line+=1\n",
    "    col = (col+3)%(m)\n",
    "    if l[line][col]=='#':\n",
    "        cpteur_arbre+=1\n",
    "        \n",
    "print(cpteur_arbre)"
   ]
  },
  {
   "cell_type": "markdown",
   "metadata": {},
   "source": [
    "### Part 2"
   ]
  },
  {
   "cell_type": "code",
   "execution_count": 24,
   "metadata": {},
   "outputs": [
    {
     "name": "stdout",
     "output_type": "stream",
     "text": [
      "2655892800\n"
     ]
    }
   ],
   "source": [
    "n = len(l)\n",
    "m = len(l[0])\n",
    "res = 1\n",
    "\n",
    "for slope in [(1,1),(3,1),(5,1),(7,1),(1,2)]:\n",
    "    cpteur = 0\n",
    "    line = 0 \n",
    "    col = 0 \n",
    "    while line <n-1:\n",
    "        line+=slope[1]\n",
    "        col = (col+slope[0])%(m)\n",
    "        if l[line][col]=='#':\n",
    "            cpteur+=1\n",
    "    res = res*cpteur\n",
    "\n",
    "print(res)"
   ]
  },
  {
   "cell_type": "code",
   "execution_count": null,
   "metadata": {},
   "outputs": [],
   "source": []
  }
 ],
 "metadata": {
  "kernelspec": {
   "display_name": "Python 3",
   "language": "python",
   "name": "python3"
  },
  "language_info": {
   "codemirror_mode": {
    "name": "ipython",
    "version": 3
   },
   "file_extension": ".py",
   "mimetype": "text/x-python",
   "name": "python",
   "nbconvert_exporter": "python",
   "pygments_lexer": "ipython3",
   "version": "3.8.5"
  }
 },
 "nbformat": 4,
 "nbformat_minor": 4
}
